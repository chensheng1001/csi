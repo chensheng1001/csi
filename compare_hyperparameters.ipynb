{
 "cells": [
  {
   "cell_type": "code",
   "execution_count": null,
   "metadata": {},
   "outputs": [],
   "source": [
    "import logging.config\n",
    "import os\n",
    "import pathlib"
   ]
  },
  {
   "cell_type": "markdown",
   "metadata": {},
   "source": [
    "Set visible gpu."
   ]
  },
  {
   "cell_type": "code",
   "execution_count": null,
   "metadata": {},
   "outputs": [],
   "source": [
    "os.environ[\"CUDA_VISIBLE_DEVICES\"] = \"0, 1, 3\""
   ]
  },
  {
   "cell_type": "markdown",
   "metadata": {},
   "source": [
    "Configure logging"
   ]
  },
  {
   "cell_type": "code",
   "execution_count": null,
   "metadata": {},
   "outputs": [],
   "source": [
    "output_dir = pathlib.Path('/data/wzy/WifiEnvironment/hparam_cmp')\n",
    "try:\n",
    "    os.makedirs(output_dir)\n",
    "except FileExistsError:\n",
    "    if not os.path.isdir(output_dir):\n",
    "        raise FileExistsError(\"Please provide a path to a non-existing or directory as the output directory.\")\n",
    "log_format = '%(asctime)s: %(levelname)s: %(name)s: %(filename)s: %(funcName)s(): %(lineno)d:\\t%(message)s'\n",
    "formatter = logging.Formatter(log_format)\n",
    "file_handler = logging.FileHandler(str(output_dir / 'log.log'), mode = 'a')\n",
    "file_handler.setLevel(logging.DEBUG)\n",
    "file_handler.setFormatter(formatter)\n",
    "formatter = logging.Formatter(fmt=\"[%(levelname)s %(asctime)s] %(name)s: %(message)s\", datefmt=\"%m-%d %H:%M:%S\",)\n",
    "stream_handler = logging.StreamHandler()\n",
    "stream_handler.setLevel(logging.INFO)\n",
    "stream_handler.setFormatter(formatter)\n",
    "logging.basicConfig(level = logging.DEBUG, handlers = [file_handler, stream_handler])"
   ]
  },
  {
   "cell_type": "code",
   "execution_count": null,
   "metadata": {},
   "outputs": [],
   "source": [
    "import ray\n",
    "import ray.tune as tune\n",
    "\n",
    "import configs2\n",
    "import compare_hyperparameters"
   ]
  },
  {
   "cell_type": "code",
   "execution_count": null,
   "metadata": {},
   "outputs": [],
   "source": [
    "seeds = configs2.hparams_comparison_seeds\n",
    "compare_hyperparameters.seeds = seeds\n",
    "configuration = {\n",
    "        'test_room': 2,\n",
    "        'seed': tune.grid_search(seeds),\n",
    "        'batch_size': 16,\n",
    "        'epoch': 5,\n",
    "        'data_dir': pathlib.Path('/data/wzy/WifiEnvironment/gram_data')}\n",
    "hyper_paremeters = {\n",
    "'slicing': {\n",
    "        # 'slice_stride' : tune.grid_search([x // time_resolution for x in [100, 200, 300]]),\n",
    "        'slice_length': tune.grid_search([x // configs2.time_resolution for x in [300, 400, 500, 600, 700, 800]])},\n",
    "#'label_smoothening': {\n",
    "#        'label_smoothening': tune.grid_search([0.0, 0.1, 0.2])},\n",
    "#'smoothness_regularization': {\n",
    "#        'lambda_smoothness': tune.grid_search([0.0, 0.1, 0.2, 0.3, 0.4])},\n",
    "'gram_type': {\n",
    "        'gram_type': tune.grid_search(['log_stft', 'log_hht', 'stft', 'hht', 'ampl'])},}\n",
    "#'learning_rate': {\n",
    "#        'learning_rate': tune.grid_search([1e-4, 3e-4, 5e-4, 7e-4, 1e-3, 2e-3]),\n",
    "#        'learning_rate_disc': tune.grid_search([1e-4, 3e-4, 5e-4, 7e-4, 1e-3, 2e-3])}"
   ]
  },
  {
   "cell_type": "markdown",
   "metadata": {},
   "source": [
    "Initialize ray"
   ]
  },
  {
   "cell_type": "code",
   "execution_count": null,
   "metadata": {},
   "outputs": [],
   "source": [
    "ray.init()"
   ]
  },
  {
   "cell_type": "code",
   "execution_count": null,
   "metadata": {},
   "outputs": [],
   "source": [
    "experiments = []\n",
    "for key, value in hyper_paremeters.items():\n",
    "    value.update(configuration)\n",
    "    experiment = tune.Experiment(\n",
    "            name = key,\n",
    "            run = compare_hyperparameters.Trainable,\n",
    "            stop = {'training_iteration': 20, },\n",
    "            config = value,\n",
    "            resources_per_trial = {\n",
    "                    'cpu': 1,\n",
    "                    'gpu': 1},\n",
    "            num_samples = 1,\n",
    "            local_dir = output_dir,\n",
    "            checkpoint_freq = 0,\n",
    "            checkpoint_at_end = True,\n",
    "            max_failures = 5)\n",
    "    experiments.append(experiment)"
   ]
  },
  {
   "cell_type": "code",
   "execution_count": null,
   "metadata": {},
   "outputs": [],
   "source": [
    "trails = tune.run_experiments(\n",
    "        experiments,\n",
    "        verbose = 1,\n",
    "        raise_on_failed_trial = False)"
   ]
  },
  {
   "cell_type": "code",
   "execution_count": null,
   "metadata": {},
   "outputs": [],
   "source": [
    "ray.shutdown()"
   ]
  },
  {
   "cell_type": "code",
   "execution_count": null,
   "metadata": {},
   "outputs": [],
   "source": []
  }
 ],
 "metadata": {
  "kernelspec": {
   "display_name": "Python 3",
   "language": "python",
   "name": "python3"
  },
  "language_info": {
   "codemirror_mode": {
    "name": "ipython",
    "version": 3
   },
   "file_extension": ".py",
   "mimetype": "text/x-python",
   "name": "python",
   "nbconvert_exporter": "python",
   "pygments_lexer": "ipython3",
   "version": "3.8.3"
  }
 },
 "nbformat": 4,
 "nbformat_minor": 4
}
