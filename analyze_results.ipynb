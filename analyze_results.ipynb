{
 "cells": [
  {
   "cell_type": "code",
   "execution_count": null,
   "metadata": {},
   "outputs": [],
   "source": [
    "import pathlib\n",
    "import re\n",
    "from IPython import display\n",
    "\n",
    "import pandas\n",
    "\n",
    "import configs2"
   ]
  },
  {
   "cell_type": "code",
   "execution_count": null,
   "metadata": {},
   "outputs": [],
   "source": [
    "root_dir = pathlib.Path('E:\\Data\\WifiEnvironment\\out3')\n",
    "older_root_dir = pathlib.Path('E:\\Data\\WifiEnvironment\\out2')\n",
    "run_name_pattern = re.compile(r'^model_(?P<name>.*?)_room(?P<room>\\d)_seed(?P<seed>\\d+)(?P<time>.+)$')\n",
    "\n",
    "models = ['base', 'bare', 'bare_margin', 'mine', 'mine_wosmoothness',\n",
    "          # 'mine_grl', 'mine_grl_wosmoothness',\n",
    "          'cnn', 'wicarimproved', 'ei_improved',\n",
    "          'ei_base', 'ei',  # 'ei_constraint0.15',\n",
    "          'wicarbase', 'wicar',]  # 'wicar_lambda0.1', 'wicar_lambda0.2', 'wicar_lambda0.05']\n",
    "          # 'wicarbaselarge', 'wicarlarge', 'wicarlarge_lambda0.1', 'wicarlarge_lambda0.05', ]\n",
    "seeds = configs2.model_comparison_seeds\n",
    "rooms = [i for i in range(configs2.data_count['room'])]"
   ]
  },
  {
   "cell_type": "code",
   "execution_count": null,
   "metadata": {},
   "outputs": [],
   "source": [
    "pandas.set_option('display.max_rows', None)\n",
    "pandas.set_option('display.max_columns', None)\n",
    "pandas.set_option('display.width', None)\n",
    "pandas.set_option('display.max_colwidth', None)"
   ]
  },
  {
   "cell_type": "code",
   "execution_count": null,
   "metadata": {},
   "outputs": [],
   "source": [
    "def get_experiment_results(directory: pathlib.Path):\n",
    "    result_dict = {}\n",
    "    for experiment_dir in directory.iterdir():\n",
    "        if not experiment_dir.is_dir():\n",
    "            continue\n",
    "\n",
    "        experiment_name = experiment_dir.name\n",
    "\n",
    "        run_list = []\n",
    "        for run_dir in experiment_dir.iterdir():\n",
    "            if not run_dir.is_dir():\n",
    "                continue\n",
    "\n",
    "            match = run_name_pattern.fullmatch(run_dir.name)\n",
    "            room, seed = match.group('room', 'seed')\n",
    "\n",
    "            validation_results = pandas.read_csv((run_dir / 'validation.csv'), sep = '\\t')\n",
    "\n",
    "            run_list.append(\n",
    "                    {'room': int(room), 'seed': int(seed), 'path': run_dir.name,\n",
    "                     'validation_results': validation_results})\n",
    "\n",
    "        run_df = pandas.DataFrame(data = run_list, columns = ['room', 'seed', 'path', 'validation_results'])\n",
    "        run_df = run_df.astype({'room': 'category', 'seed': 'category'})\n",
    "\n",
    "        result: pandas.DataFrame = pandas.read_csv((experiment_dir / 'result.csv'), sep = '\\t')\n",
    "        result = result.astype({'room': 'category', 'seed': 'category'})\n",
    "        best_result: pandas.DataFrame = pandas.read_csv((experiment_dir / 'result_best.csv'), sep = '\\t')\n",
    "        best_result = best_result.astype({'room': 'category', 'seed': 'category'})\n",
    "\n",
    "        result_dict.update({experiment_name: {'final': result, 'best': best_result, 'runs': run_df}})\n",
    "    return result_dict"
   ]
  },
  {
   "cell_type": "code",
   "execution_count": null,
   "metadata": {},
   "outputs": [],
   "source": [
    "def get_average_results(results: pandas.DataFrame) -> pandas.DataFrame:\n",
    "    return results.groupby(['room']).describe(include = ['float64'])\n",
    "\n",
    "\n",
    "def get_average_validation_results(run_results: pandas.DataFrame, start: int, end: int) -> pandas.DataFrame:\n",
    "    def func(data: pandas.Series):\n",
    "        validation_results: pandas.DataFrame = data['validation_results']\n",
    "        validation_results.drop(columns = ['loss_classifier', 'loss_discriminator', 'loss_total'],\n",
    "                                inplace = True, errors = 'ignore')\n",
    "        \n",
    "        validation_results = validation_results.loc[\n",
    "            (start <= validation_results['epoch']) & (validation_results['epoch'] <= end)]\n",
    "        \n",
    "        validation_results.insert(0, 'seed', data['seed'])\n",
    "        validation_results.insert(0, 'room', data['room'])\n",
    "        validation_results = validation_results.astype({'room': 'category', 'seed': 'category', 'epoch': 'category'})\n",
    "        \n",
    "        return validation_results\n",
    "    \n",
    "    results: pandas.DataFrame = run_results.apply(func, axis = 1)\n",
    "    results = pandas.concat([data for _, data in results.iteritems()], ignore_index = True)\n",
    "    results = results.astype({'room': 'category', 'seed': 'category', 'epoch': 'category'})\n",
    "    \n",
    "    return results.groupby(['room']).describe(include = ['float64'])"
   ]
  },
  {
   "cell_type": "code",
   "execution_count": null,
   "metadata": {},
   "outputs": [],
   "source": [
    "experiment_results = get_experiment_results(root_dir)\n",
    "older_experiment_results = get_experiment_results(older_root_dir)"
   ]
  },
  {
   "cell_type": "code",
   "execution_count": null,
   "metadata": {
    "scrolled": false
   },
   "outputs": [],
   "source": [
    "results = {}\n",
    "for model_name in models:\n",
    "    if model_name in experiment_results:\n",
    "        model_results = experiment_results[model_name]\n",
    "    elif model_name in older_experiment_results:\n",
    "        model_results = older_experiment_results[model_name]\n",
    "    else:\n",
    "        continue\n",
    "\n",
    "    final_result = get_average_results(model_results['final'])\n",
    "    best_result = get_average_results(model_results['best'])\n",
    "    last_result = get_average_validation_results(model_results['runs'], 96, 100)\n",
    "\n",
    "    results.update({model_name: {'final': final_result, 'best': best_result, 'last': last_result}})\n",
    "\n",
    "    print(model_name)\n",
    "    display.display(last_result)\n",
    "\n",
    "    del model_name, model_results, final_result, best_result, last_result"
   ]
  },
  {
   "cell_type": "code",
   "execution_count": null,
   "metadata": {},
   "outputs": [],
   "source": []
  }
 ],
 "metadata": {
  "kernelspec": {
   "display_name": "Python 3",
   "language": "python",
   "name": "python3"
  },
  "language_info": {
   "codemirror_mode": {
    "name": "ipython",
    "version": 3
   },
   "file_extension": ".py",
   "mimetype": "text/x-python",
   "name": "python",
   "nbconvert_exporter": "python",
   "pygments_lexer": "ipython3",
   "version": "3.8.3"
  }
 },
 "nbformat": 4,
 "nbformat_minor": 4
}
