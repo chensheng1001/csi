{
 "cells": [
  {
   "cell_type": "code",
   "execution_count": null,
   "metadata": {},
   "outputs": [],
   "source": [
    "import logging.config\n",
    "import os\n",
    "import pathlib"
   ]
  },
  {
   "cell_type": "markdown",
   "metadata": {},
   "source": [
    "Set visible gpu."
   ]
  },
  {
   "cell_type": "code",
   "execution_count": null,
   "metadata": {},
   "outputs": [],
   "source": [
    "os.environ[\"CUDA_VISIBLE_DEVICES\"] = \"0\""
   ]
  },
  {
   "cell_type": "markdown",
   "metadata": {},
   "source": [
    "Configure logging"
   ]
  },
  {
   "cell_type": "code",
   "execution_count": null,
   "metadata": {},
   "outputs": [],
   "source": [
    "output_dir = pathlib.Path('../tune_results')\n",
    "try:\n",
    "    os.makedirs(output_dir)\n",
    "except FileExistsError:\n",
    "    if not os.path.isdir(output_dir):\n",
    "        raise FileExistsError(\"Please provide a path to a non-existing or directory as the output directory.\")\n",
    "log_format = '%(asctime)s: %(levelname)s: %(name)s: %(filename)s: %(funcName)s(): %(lineno)d:\\t%(message)s'\n",
    "formatter = logging.Formatter(log_format)\n",
    "file_handler = logging.FileHandler(str(output_dir / 'log.log'), mode = 'a')\n",
    "file_handler.setLevel(logging.DEBUG)\n",
    "file_handler.setFormatter(formatter)\n",
    "formatter = logging.Formatter(fmt=\"[%(levelname)s %(asctime)s] %(name)s: %(message)s\", datefmt=\"%m-%d %H:%M:%S\",)\n",
    "stream_handler = logging.StreamHandler()\n",
    "stream_handler.setLevel(logging.INFO)\n",
    "stream_handler.setFormatter(formatter)\n",
    "logging.basicConfig(level = logging.DEBUG, handlers = [file_handler, stream_handler])"
   ]
  },
  {
   "cell_type": "code",
   "execution_count": null,
   "metadata": {},
   "outputs": [],
   "source": [
    "import ray\n",
    "import ax.service.ax_client as ax_client\n",
    "import ray.tune as tune\n",
    "import ray.tune.schedulers as schedulers\n",
    "import ray.tune.suggest as suggests\n",
    "import ray.tune.suggest.ax as ax_suggest\n",
    "\n",
    "from configs import hyper_parameter_constraints, hyper_parameters_n as hyper_parameters\n",
    "import tune_hyperparameters\n",
    "\n",
    "ax_client.logger.addHandler(file_handler)\n",
    "tune_hyperparameters.seeds = [26360154, 83182821, 39315480, 47450099, 87494286]"
   ]
  },
  {
   "cell_type": "markdown",
   "metadata": {},
   "source": [
    "Initialize ray"
   ]
  },
  {
   "cell_type": "code",
   "execution_count": null,
   "metadata": {},
   "outputs": [],
   "source": [
    "ray.init()"
   ]
  },
  {
   "cell_type": "markdown",
   "metadata": {},
   "source": [
    "Configure trail scheduler.\n",
    "\n",
    "AsyncHyperBandScheduler is recommended over vanilla HyperBand by ray tune official."
   ]
  },
  {
   "cell_type": "code",
   "execution_count": null,
   "metadata": {},
   "outputs": [],
   "source": [
    "scheduler = schedulers.AsyncHyperBandScheduler(metric = 'mean_accuracy', mode = \"max\", max_t = 6,\n",
    "                                               grace_period = 4, reduction_factor = 2)"
   ]
  },
  {
   "cell_type": "markdown",
   "metadata": {},
   "source": [
    "Use Ax's search algorithm.\n",
    "\n",
    "It is recommended to not use Repeater with a TrialScheduler.\n",
    "Early termination can negatively affect the average reported metric.\n",
    "\n",
    "Set enforce_sequential_optimization to True because there are that many GPU avaliable."
   ]
  },
  {
   "cell_type": "code",
   "execution_count": null,
   "metadata": {},
   "outputs": [],
   "source": [
    "client = ax_client.AxClient(enforce_sequential_optimization = True)\n",
    "client.create_experiment(\n",
    "        parameters = hyper_parameters,\n",
    "        name = \"Ax Experiment\",\n",
    "        objective_name = \"best_accuracy\",\n",
    "        parameter_constraints = hyper_parameter_constraints)\n",
    "search_alg = ax_suggest.AxSearch(client, mode = \"max\")\n",
    "# search_alg = suggests.Repeater(search_alg, repeat = 2)\n",
    "search_alg = suggests.ConcurrencyLimiter(search_alg, max_concurrent = 1)"
   ]
  },
  {
   "cell_type": "markdown",
   "metadata": {},
   "source": [
    "Setup experement."
   ]
  },
  {
   "cell_type": "code",
   "execution_count": null,
   "metadata": {},
   "outputs": [],
   "source": [
    "experiment = tune.Experiment(\n",
    "        name = \"My Experiment\",\n",
    "        run = tune_hyperparameters.Trainable,\n",
    "        stop = {'mean_accuracy': 0.95},\n",
    "        config = {\n",
    "                'epoch_per_iteration': 4, 'batch_size': 14,\n",
    "                'test_room': 2,\n",
    "                'data_dir': pathlib.Path('/data/wzy/WifiEnvironment/gram_data'),\n",
    "                'log_format': log_format},\n",
    "        resources_per_trial = {\n",
    "                'cpu': 1,\n",
    "                'gpu': 1},\n",
    "        num_samples = 70,\n",
    "        local_dir = output_dir,\n",
    "        checkpoint_freq = 0,\n",
    "        checkpoint_at_end = True,\n",
    "        max_failures = 5)"
   ]
  },
  {
   "cell_type": "markdown",
   "metadata": {},
   "source": [
    "Run trails."
   ]
  },
  {
   "cell_type": "code",
   "execution_count": null,
   "metadata": {
    "scrolled": true
   },
   "outputs": [],
   "source": [
    "analysis = tune.run(\n",
    "        experiment,\n",
    "        scheduler = scheduler,\n",
    "        search_alg = search_alg,\n",
    "        raise_on_failed_trial = False)"
   ]
  },
  {
   "cell_type": "markdown",
   "metadata": {},
   "source": [
    "Analyze results."
   ]
  },
  {
   "cell_type": "code",
   "execution_count": null,
   "metadata": {},
   "outputs": [],
   "source": [
    "logging.getLogger('main').critical(\"Best config is {}\".format(analysis.get_best_config(metric = \"best_accuracy\")))\n",
    "trials = analysis.trials\n",
    "best_trail = analysis.get_best_trial(metric = \"best_accuracy\")\n",
    "best_parameters, values = client.get_best_parameters()\n",
    "logging.getLogger('main').critical(\"Best config is {}, {}\".format(best_parameters, values))"
   ]
  },
  {
   "cell_type": "code",
   "execution_count": null,
   "metadata": {},
   "outputs": [],
   "source": [
    "ray.shutdown()"
   ]
  },
  {
   "cell_type": "code",
   "execution_count": null,
   "metadata": {},
   "outputs": [],
   "source": []
  }
 ],
 "metadata": {
  "kernelspec": {
   "display_name": "Python 3",
   "language": "python",
   "name": "python3"
  },
  "language_info": {
   "codemirror_mode": {
    "name": "ipython",
    "version": 3
   },
   "file_extension": ".py",
   "mimetype": "text/x-python",
   "name": "python",
   "nbconvert_exporter": "python",
   "pygments_lexer": "ipython3",
   "version": "3.8.3"
  }
 },
 "nbformat": 4,
 "nbformat_minor": 4
}
