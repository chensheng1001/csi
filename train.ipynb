{
 "cells": [
  {
   "cell_type": "code",
   "execution_count": null,
   "metadata": {
    "scrolled": true
   },
   "outputs": [],
   "source": [
    "import os\n",
    "\n",
    "import torch\n",
    "\n",
    "import configs\n",
    "import configs2\n",
    "from run_model import run_model_with_seeds"
   ]
  },
  {
   "cell_type": "code",
   "execution_count": null,
   "metadata": {
    "scrolled": true
   },
   "outputs": [],
   "source": [
    "os.chdir(\"..\")\n",
    "data_dir = configs2.data_dir\n",
    "root_output_dir = configs2.output_dir\n",
    "seeds = configs2.model_comparison_seeds\n",
    "epochs = configs2.model_comparison_epochs\n",
    "room_seed_pairs = [(room, seed) for seed in seeds for room in range(configs2.data_count['room'])]\n",
    "try:\n",
    "    os.makedirs(root_output_dir)\n",
    "except FileExistsError:\n",
    "    if not os.path.isdir(root_output_dir):\n",
    "        raise FileExistsError(\"Please provide a path to a non-existing or directory as the output directory.\")"
   ]
  },
  {
   "cell_type": "code",
   "execution_count": null,
   "metadata": {
    "scrolled": true
   },
   "outputs": [],
   "source": [
    "os.environ[\"CUDA_VISIBLE_DEVICES\"] = \"2\"\n",
    "device = torch.device(\"cuda\")"
   ]
  },
  {
   "cell_type": "code",
   "execution_count": null,
   "metadata": {
    "scrolled": true
   },
   "outputs": [],
   "source": [
    "from models import base, bare, mine, cnn, ei_base, ei, ei2, wicar_base, wicar, wicar2"
   ]
  },
  {
   "cell_type": "code",
   "execution_count": null,
   "metadata": {},
   "outputs": [],
   "source": [
    "batch_size = # batch_size\n",
    "worker_num = 4\n",
    "additional_labels = # True/False"
   ]
  },
  {
   "cell_type": "code",
   "execution_count": null,
   "metadata": {},
   "outputs": [],
   "source": [
    "network = # network\n",
    "name = # name for output folder\n",
    "output_dir = root_output_dir / name\n",
    "try:\n",
    "    os.makedirs(output_dir)\n",
    "except FileExistsError:\n",
    "    if not os.path.isdir(output_dir):\n",
    "        raise FileExistsError()\n",
    "conf = configs.Configuration(\n",
    "        data_dir = data_dir, output_dir = output_dir,\n",
    "        batch_size = batch_size, max_epochs = epochs,\n",
    "        network = network.NetworkConfiguration())\n",
    "# modify conf below"
   ]
  },
  {
   "cell_type": "code",
   "execution_count": null,
   "metadata": {},
   "outputs": [],
   "source": [
    "run_model_with_seeds(name, network, conf, batch_size, epochs, device, worker_num, additional_labels, output_dir,\n",
    "                     room_seed_pairs)"
   ]
  },
  {
   "cell_type": "code",
   "execution_count": null,
   "metadata": {},
   "outputs": [],
   "source": []
  }
 ],
 "metadata": {
  "kernelspec": {
   "display_name": "Python 3",
   "language": "python",
   "name": "python3"
  },
  "language_info": {
   "codemirror_mode": {
    "name": "ipython",
    "version": 3
   },
   "file_extension": ".py",
   "mimetype": "text/x-python",
   "name": "python",
   "nbconvert_exporter": "python",
   "pygments_lexer": "ipython3",
   "version": "3.8.3"
  }
 },
 "nbformat": 4,
 "nbformat_minor": 4
}
